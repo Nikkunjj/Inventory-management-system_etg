{
  "nbformat": 4,
  "nbformat_minor": 0,
  "metadata": {
    "colab": {
      "name": "Inventory management system  update ",
      "provenance": [],
      "collapsed_sections": [],
      "authorship_tag": "ABX9TyP4j+hKilBycvKcmsL+Zty8",
      "include_colab_link": true
    },
    "kernelspec": {
      "name": "python3",
      "display_name": "Python 3"
    },
    "language_info": {
      "name": "python"
    }
  },
  "cells": [
    {
      "cell_type": "markdown",
      "metadata": {
        "id": "view-in-github",
        "colab_type": "text"
      },
      "source": [
        "<a href=\"https://colab.research.google.com/github/Nikkunjj/Inventory-management-system_etg/blob/main/Inventory_management_system_update.ipynb\" target=\"_parent\"><img src=\"https://colab.research.google.com/assets/colab-badge.svg\" alt=\"Open In Colab\"/></a>"
      ]
    },
    {
      "cell_type": "code",
      "metadata": {
        "id": "NVIonawusxIt"
      },
      "source": [
        "import json \n",
        "fd=open(\"product.json\",\"r\")\n",
        "reading=fd.read()\n",
        "product=json.loads(reading)\n",
        "fd.close()"
      ],
      "execution_count": null,
      "outputs": []
    },
    {
      "cell_type": "code",
      "metadata": {
        "id": "BrrCNv4ts1Ei"
      },
      "source": [
        "print(\"Product Update\")\n",
        "print(\"Enter the product ID you want to update: \")\n",
        "product_ID=str(input())\n",
        "print(\"Enter the quantity you want to add to the current quantity: \")\n",
        "quantity=int(input())\n",
        "product[product_ID][\"Quantity\"]=product[product_ID][\"Quantity\"]+quantity\n",
        "print(\"Quantity has been updated!!\")\n",
        "js1=json.dumps(product)\n",
        "product_updated=open(\"product.json\",\"w\")\n",
        "product_updated.write(js1)\n",
        "product_updated.close()"
      ],
      "execution_count": null,
      "outputs": []
    },
    {
      "cell_type": "markdown",
      "metadata": {
        "id": "yj7Oxbv5tATb"
      },
      "source": [
        ""
      ]
    }
  ]
}